{
 "cells": [
  {
   "cell_type": "code",
   "execution_count": 39,
   "id": "dee4638c",
   "metadata": {},
   "outputs": [],
   "source": [
    "import lightkurve as lk\n",
    "import matplotlib.pyplot as plt\n",
    "import numpy as np\n",
    "import math as m\n",
    "import scipy as sp"
   ]
  },
  {
   "cell_type": "code",
   "execution_count": 44,
   "id": "e28ee2bd",
   "metadata": {},
   "outputs": [
    {
     "name": "stdout",
     "output_type": "stream",
     "text": [
      "The HZ zone is from 0.5157264211369054 AU to 0.9589954112049892 AU.\n",
      "Planet in HZ zone is False The planet's OR is 0.09530411809650871\n"
     ]
    },
    {
     "name": "stderr",
     "output_type": "stream",
     "text": [
      "/var/folders/vy/fstp4tbs7dd88v7rpr4cj9z00000gp/T/ipykernel_13593/3679481586.py:17: DeprecationWarning: scipy.sqrt is deprecated and will be removed in SciPy 2.0.0, use numpy.lib.scimath.sqrt instead\n",
      "  ROuter = sp.sqrt(Lum/(sigma*pow(275, 4)*4*sp.pi*sp.pi))/(1.49e11)\n",
      "/var/folders/vy/fstp4tbs7dd88v7rpr4cj9z00000gp/T/ipykernel_13593/3679481586.py:18: DeprecationWarning: scipy.sqrt is deprecated and will be removed in SciPy 2.0.0, use numpy.lib.scimath.sqrt instead\n",
      "  RInner = sp.sqrt(Lum/(sigma*pow(375, 4)*4*sp.pi*sp.pi))/(1.49e11)\n"
     ]
    }
   ],
   "source": [
    "\"\"\"\n",
    "Temperature Range\n",
    "275 - 315 Kelvin \n",
    "\"\"\"\n",
    "\n",
    "def HabitableZone(Lum, OP, StarMass):\n",
    "    #Calculation of SemiMajorAx\n",
    "    Lum = Lum*3.827e26\n",
    "    StarMass = StarMass*1.98e30\n",
    "    OP = OP*3600*24\n",
    "    G = 6.67e-11\n",
    "    sigma = 5.67e-8\n",
    "    res = OP*OP*G*StarMass/(4*sp.pi*sp.pi)\n",
    "    PlanetOR = pow(res, 1/3)/(1.49e11)\n",
    "    \n",
    "    #Calculation of HZ Range:\n",
    "    ROuter = sp.sqrt(Lum/(sigma*pow(275, 4)*4*sp.pi*sp.pi))/(1.49e11)\n",
    "    RInner = sp.sqrt(Lum/(sigma*pow(375, 4)*4*sp.pi*sp.pi))/(1.49e11)\n",
    "    \n",
    "    inHz = False\n",
    "    if(RInner <= PlanetOR <= ROuter):\n",
    "        inHz = True\n",
    "    else:\n",
    "        inHz = False \n",
    "    print(\"The HZ zone is from\", RInner, \"AU to\", ROuter, \"AU.\")\n",
    "    print(\"Planet in HZ zone is\", inHz, \"The planet's OR is\", PlanetOR)\n",
    "    \n",
    "    \n",
    "HabitableZone(0.683, 10.953195,0.9557700)"
   ]
  },
  {
   "cell_type": "code",
   "execution_count": null,
   "id": "7ce12b1e",
   "metadata": {},
   "outputs": [],
   "source": []
  },
  {
   "cell_type": "code",
   "execution_count": null,
   "id": "e512d606",
   "metadata": {},
   "outputs": [],
   "source": []
  },
  {
   "cell_type": "code",
   "execution_count": null,
   "id": "32e9098b",
   "metadata": {},
   "outputs": [],
   "source": []
  },
  {
   "cell_type": "code",
   "execution_count": null,
   "id": "c2a8ad51",
   "metadata": {},
   "outputs": [],
   "source": []
  },
  {
   "cell_type": "code",
   "execution_count": null,
   "id": "d4915ed1",
   "metadata": {
    "scrolled": true
   },
   "outputs": [],
   "source": []
  },
  {
   "cell_type": "code",
   "execution_count": null,
   "id": "931e4c48",
   "metadata": {},
   "outputs": [],
   "source": []
  },
  {
   "cell_type": "code",
   "execution_count": null,
   "id": "b64d6e0e",
   "metadata": {},
   "outputs": [],
   "source": []
  },
  {
   "cell_type": "code",
   "execution_count": null,
   "id": "da7dfea3",
   "metadata": {},
   "outputs": [],
   "source": []
  }
 ],
 "metadata": {
  "kernelspec": {
   "display_name": "Python 3 (ipykernel)",
   "language": "python",
   "name": "python3"
  },
  "language_info": {
   "codemirror_mode": {
    "name": "ipython",
    "version": 3
   },
   "file_extension": ".py",
   "mimetype": "text/x-python",
   "name": "python",
   "nbconvert_exporter": "python",
   "pygments_lexer": "ipython3",
   "version": "3.9.12"
  }
 },
 "nbformat": 4,
 "nbformat_minor": 5
}
